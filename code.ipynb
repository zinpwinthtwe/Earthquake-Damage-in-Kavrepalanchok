{
 "cells": [
  {
   "cell_type": "markdown",
   "id": "dd17547a",
   "metadata": {},
   "source": [
    "<font size=\"+3\"><strong>4.5. Earthquake Damage in Kavrepalanchok 🇳🇵</strong></font>"
   ]
  },
  {
   "cell_type": "markdown",
   "id": "86ec1bec",
   "metadata": {},
   "source": [
    "In this assignment, you'll build a classification model to predict building damage for the district of [Kavrepalanchok](https://en.wikipedia.org/wiki/Kavrepalanchok_District)."
   ]
  },
  {
   "cell_type": "code",
   "execution_count": 17,
   "id": "04da2cb2",
   "metadata": {},
   "outputs": [],
   "source": [
    "import warnings\n",
    "\n",
    "\n",
    "warnings.simplefilter(action=\"ignore\", category=FutureWarning)"
   ]
  },
  {
   "cell_type": "code",
   "execution_count": 18,
   "id": "42121590",
   "metadata": {},
   "outputs": [],
   "source": [
    "# Import libraries here\n",
    "import sqlite3\n",
    "import warnings\n",
    "\n",
    "import matplotlib.pyplot as plt\n",
    "import numpy as np\n",
    "import pandas as pd\n",
    "import seaborn as sns\n",
    "from category_encoders import OneHotEncoder,OrdinalEncoder\n",
    "from IPython.display import VimeoVideo\n",
    "from sklearn.linear_model import LogisticRegression\n",
    "from sklearn.tree import DecisionTreeClassifier\n",
    "from sklearn.metrics import accuracy_score\n",
    "from sklearn.model_selection import train_test_split\n",
    "from sklearn.pipeline import Pipeline, make_pipeline\n",
    "from sklearn.utils.validation import check_is_fitted\n",
    "\n",
    "warnings.simplefilter(action=\"ignore\", category=FutureWarning)"
   ]
  },
  {
   "cell_type": "markdown",
   "id": "31ec8160",
   "metadata": {},
   "source": [
    "# Prepare Data"
   ]
  },
  {
   "cell_type": "markdown",
   "id": "059b90bc",
   "metadata": {},
   "source": [
    "## Connect"
   ]
  },
  {
   "cell_type": "markdown",
   "id": "2d5ce919",
   "metadata": {},
   "source": [
    "Run the cell below to connect to the `nepal.sqlite` database."
   ]
  },
  {
   "cell_type": "code",
   "execution_count": 19,
   "id": "14239d9d",
   "metadata": {
    "scrolled": true
   },
   "outputs": [
    {
     "name": "stdout",
     "output_type": "stream",
     "text": [
      "The sql extension is already loaded. To reload it, use:\n",
      "  %reload_ext sql\n"
     ]
    }
   ],
   "source": [
    "%load_ext sql\n",
    "%config SqlMagic.autopandas = True\n",
    "\n",
    "%sql sqlite:///nepals.sqlite"
   ]
  },
  {
   "cell_type": "markdown",
   "id": "0a0f36e2",
   "metadata": {},
   "source": [
    "<div class=\"alert alert-block alert-warning\">\n",
    "<b>Warning:</b>Be careful with your SQL queries in this assignment. If you try to get all the rows from a table (for example, <code>SELECT * FROM id_map</code>), you will cause an Out of Memory error on your virtual machine. So always include a <code>LIMIT</code> when first exploring a database.\n",
    "</div>"
   ]
  },
  {
   "cell_type": "markdown",
   "id": "f4af8a52",
   "metadata": {},
   "source": [
    "**Task 4.5.1:** What districts are represented in the `id_map` table? Determine the unique values in the **`district_id`** column."
   ]
  },
  {
   "cell_type": "code",
   "execution_count": 20,
   "id": "b474de74",
   "metadata": {},
   "outputs": [
    {
     "name": "stdout",
     "output_type": "stream",
     "text": [
      " * sqlite:///nepals.sqlite\n",
      "Done.\n"
     ]
    },
    {
     "data": {
      "text/html": [
       "<div>\n",
       "<style scoped>\n",
       "    .dataframe tbody tr th:only-of-type {\n",
       "        vertical-align: middle;\n",
       "    }\n",
       "\n",
       "    .dataframe tbody tr th {\n",
       "        vertical-align: top;\n",
       "    }\n",
       "\n",
       "    .dataframe thead th {\n",
       "        text-align: right;\n",
       "    }\n",
       "</style>\n",
       "<table border=\"1\" class=\"dataframe\">\n",
       "  <thead>\n",
       "    <tr style=\"text-align: right;\">\n",
       "      <th></th>\n",
       "      <th>district_id</th>\n",
       "    </tr>\n",
       "  </thead>\n",
       "  <tbody>\n",
       "    <tr>\n",
       "      <th>0</th>\n",
       "      <td>1</td>\n",
       "    </tr>\n",
       "    <tr>\n",
       "      <th>1</th>\n",
       "      <td>2</td>\n",
       "    </tr>\n",
       "    <tr>\n",
       "      <th>2</th>\n",
       "      <td>3</td>\n",
       "    </tr>\n",
       "    <tr>\n",
       "      <th>3</th>\n",
       "      <td>4</td>\n",
       "    </tr>\n",
       "  </tbody>\n",
       "</table>\n",
       "</div>"
      ],
      "text/plain": [
       "   district_id\n",
       "0            1\n",
       "1            2\n",
       "2            3\n",
       "3            4"
      ]
     },
     "execution_count": 20,
     "metadata": {},
     "output_type": "execute_result"
    }
   ],
   "source": [
    "%sql SELECT DISTINCT(district_id) FROM id_map LIMIT 5\n"
   ]
  },
  {
   "cell_type": "markdown",
   "id": "cbcb6d02",
   "metadata": {},
   "source": [
    "What's the district ID for Kavrepalanchok? From the lessons, you already know that Gorkha is `4`; from the textbook, you know that Ramechhap is `2`. Of the remaining districts, Kavrepalanchok is the one with the largest number of observations in the `id_map` table."
   ]
  },
  {
   "cell_type": "markdown",
   "id": "21f7fdda",
   "metadata": {},
   "source": [
    "**Task 4.5.2:** Calculate the number of observations in the `id_map` table associated with district `1`."
   ]
  },
  {
   "cell_type": "code",
   "execution_count": 21,
   "id": "918c1894",
   "metadata": {},
   "outputs": [
    {
     "name": "stdout",
     "output_type": "stream",
     "text": [
      " * sqlite:///nepals.sqlite\n",
      "Done.\n"
     ]
    },
    {
     "data": {
      "text/html": [
       "<div>\n",
       "<style scoped>\n",
       "    .dataframe tbody tr th:only-of-type {\n",
       "        vertical-align: middle;\n",
       "    }\n",
       "\n",
       "    .dataframe tbody tr th {\n",
       "        vertical-align: top;\n",
       "    }\n",
       "\n",
       "    .dataframe thead th {\n",
       "        text-align: right;\n",
       "    }\n",
       "</style>\n",
       "<table border=\"1\" class=\"dataframe\">\n",
       "  <thead>\n",
       "    <tr style=\"text-align: right;\">\n",
       "      <th></th>\n",
       "      <th>COUNT(*)</th>\n",
       "    </tr>\n",
       "  </thead>\n",
       "  <tbody>\n",
       "    <tr>\n",
       "      <th>0</th>\n",
       "      <td>36112</td>\n",
       "    </tr>\n",
       "  </tbody>\n",
       "</table>\n",
       "</div>"
      ],
      "text/plain": [
       "   COUNT(*)\n",
       "0     36112"
      ]
     },
     "execution_count": 21,
     "metadata": {},
     "output_type": "execute_result"
    }
   ],
   "source": [
    "%%sql\n",
    "SELECT COUNT(*)\n",
    "FROM id_map\n",
    "WHERE district_id = 1\n"
   ]
  },
  {
   "cell_type": "markdown",
   "id": "5828949b",
   "metadata": {},
   "source": [
    "**Task 4.5.3:** Calculate the number of observations in the `id_map` table associated with district `3`."
   ]
  },
  {
   "cell_type": "code",
   "execution_count": 22,
   "id": "3e704d20",
   "metadata": {},
   "outputs": [
    {
     "name": "stdout",
     "output_type": "stream",
     "text": [
      " * sqlite:///nepals.sqlite\n",
      "Done.\n"
     ]
    },
    {
     "data": {
      "text/html": [
       "<div>\n",
       "<style scoped>\n",
       "    .dataframe tbody tr th:only-of-type {\n",
       "        vertical-align: middle;\n",
       "    }\n",
       "\n",
       "    .dataframe tbody tr th {\n",
       "        vertical-align: top;\n",
       "    }\n",
       "\n",
       "    .dataframe thead th {\n",
       "        text-align: right;\n",
       "    }\n",
       "</style>\n",
       "<table border=\"1\" class=\"dataframe\">\n",
       "  <thead>\n",
       "    <tr style=\"text-align: right;\">\n",
       "      <th></th>\n",
       "      <th>COUNT(*)</th>\n",
       "    </tr>\n",
       "  </thead>\n",
       "  <tbody>\n",
       "    <tr>\n",
       "      <th>0</th>\n",
       "      <td>82684</td>\n",
       "    </tr>\n",
       "  </tbody>\n",
       "</table>\n",
       "</div>"
      ],
      "text/plain": [
       "   COUNT(*)\n",
       "0     82684"
      ]
     },
     "execution_count": 22,
     "metadata": {},
     "output_type": "execute_result"
    }
   ],
   "source": [
    "%%sql\n",
    "SELECT COUNT(*)\n",
    "FROM id_map\n",
    "WHERE district_id = 3"
   ]
  },
  {
   "cell_type": "markdown",
   "id": "e60ed6b1",
   "metadata": {},
   "source": [
    "**Task 4.5.4:** Join the unique building IDs from Kavrepalanchok in `id_map`, all the columns from  `building_structure`, and the **`damage_grade`** column from `building_damage`, limiting. Make sure you rename the **`building_id`** column in `id_map` as **`b_id`** and limit your results to the first five rows of the new table."
   ]
  },
  {
   "cell_type": "code",
   "execution_count": 23,
   "id": "06f9b92f",
   "metadata": {},
   "outputs": [
    {
     "name": "stdout",
     "output_type": "stream",
     "text": [
      " * sqlite:///nepals.sqlite\n",
      "Done.\n"
     ]
    },
    {
     "data": {
      "text/html": [
       "<div>\n",
       "<style scoped>\n",
       "    .dataframe tbody tr th:only-of-type {\n",
       "        vertical-align: middle;\n",
       "    }\n",
       "\n",
       "    .dataframe tbody tr th {\n",
       "        vertical-align: top;\n",
       "    }\n",
       "\n",
       "    .dataframe thead th {\n",
       "        text-align: right;\n",
       "    }\n",
       "</style>\n",
       "<table border=\"1\" class=\"dataframe\">\n",
       "  <thead>\n",
       "    <tr style=\"text-align: right;\">\n",
       "      <th></th>\n",
       "      <th>household_id</th>\n",
       "      <th>building_id</th>\n",
       "      <th>vdcmun_id</th>\n",
       "      <th>district_id</th>\n",
       "    </tr>\n",
       "  </thead>\n",
       "  <tbody>\n",
       "    <tr>\n",
       "      <th>0</th>\n",
       "      <td>5601</td>\n",
       "      <td>56</td>\n",
       "      <td>7</td>\n",
       "      <td>1</td>\n",
       "    </tr>\n",
       "    <tr>\n",
       "      <th>1</th>\n",
       "      <td>6301</td>\n",
       "      <td>63</td>\n",
       "      <td>7</td>\n",
       "      <td>1</td>\n",
       "    </tr>\n",
       "    <tr>\n",
       "      <th>2</th>\n",
       "      <td>9701</td>\n",
       "      <td>97</td>\n",
       "      <td>7</td>\n",
       "      <td>1</td>\n",
       "    </tr>\n",
       "    <tr>\n",
       "      <th>3</th>\n",
       "      <td>9901</td>\n",
       "      <td>99</td>\n",
       "      <td>7</td>\n",
       "      <td>1</td>\n",
       "    </tr>\n",
       "    <tr>\n",
       "      <th>4</th>\n",
       "      <td>11501</td>\n",
       "      <td>115</td>\n",
       "      <td>7</td>\n",
       "      <td>1</td>\n",
       "    </tr>\n",
       "  </tbody>\n",
       "</table>\n",
       "</div>"
      ],
      "text/plain": [
       "   household_id  building_id  vdcmun_id  district_id\n",
       "0          5601           56          7            1\n",
       "1          6301           63          7            1\n",
       "2          9701           97          7            1\n",
       "3          9901           99          7            1\n",
       "4         11501          115          7            1"
      ]
     },
     "execution_count": 23,
     "metadata": {},
     "output_type": "execute_result"
    }
   ],
   "source": [
    "%%sql\n",
    "SELECT *\n",
    "FROM id_map\n",
    "LIMIT 5"
   ]
  },
  {
   "cell_type": "code",
   "execution_count": 24,
   "id": "895bef27",
   "metadata": {
    "scrolled": true
   },
   "outputs": [
    {
     "name": "stdout",
     "output_type": "stream",
     "text": [
      " * sqlite:///nepals.sqlite\n",
      "Done.\n"
     ]
    },
    {
     "data": {
      "text/html": [
       "<div>\n",
       "<style scoped>\n",
       "    .dataframe tbody tr th:only-of-type {\n",
       "        vertical-align: middle;\n",
       "    }\n",
       "\n",
       "    .dataframe tbody tr th {\n",
       "        vertical-align: top;\n",
       "    }\n",
       "\n",
       "    .dataframe thead th {\n",
       "        text-align: right;\n",
       "    }\n",
       "</style>\n",
       "<table border=\"1\" class=\"dataframe\">\n",
       "  <thead>\n",
       "    <tr style=\"text-align: right;\">\n",
       "      <th></th>\n",
       "      <th>b_id</th>\n",
       "      <th>building_id</th>\n",
       "      <th>count_floors_pre_eq</th>\n",
       "      <th>count_floors_post_eq</th>\n",
       "      <th>age_building</th>\n",
       "      <th>plinth_area_sq_ft</th>\n",
       "      <th>height_ft_pre_eq</th>\n",
       "      <th>height_ft_post_eq</th>\n",
       "      <th>land_surface_condition</th>\n",
       "      <th>foundation_type</th>\n",
       "      <th>roof_type</th>\n",
       "      <th>ground_floor_type</th>\n",
       "      <th>other_floor_type</th>\n",
       "      <th>position</th>\n",
       "      <th>plan_configuration</th>\n",
       "      <th>condition_post_eq</th>\n",
       "      <th>superstructure</th>\n",
       "      <th>damage_grade</th>\n",
       "    </tr>\n",
       "  </thead>\n",
       "  <tbody>\n",
       "    <tr>\n",
       "      <th>0</th>\n",
       "      <td>87473</td>\n",
       "      <td>87473</td>\n",
       "      <td>2</td>\n",
       "      <td>1</td>\n",
       "      <td>15</td>\n",
       "      <td>382</td>\n",
       "      <td>18</td>\n",
       "      <td>7</td>\n",
       "      <td>Flat</td>\n",
       "      <td>Mud mortar-Stone/Brick</td>\n",
       "      <td>Bamboo/Timber-Light roof</td>\n",
       "      <td>Mud</td>\n",
       "      <td>TImber/Bamboo-Mud</td>\n",
       "      <td>Not attached</td>\n",
       "      <td>Rectangular</td>\n",
       "      <td>Damaged-Used in risk</td>\n",
       "      <td>Stone, mud mortar</td>\n",
       "      <td>Grade 4</td>\n",
       "    </tr>\n",
       "    <tr>\n",
       "      <th>1</th>\n",
       "      <td>87473</td>\n",
       "      <td>87473</td>\n",
       "      <td>2</td>\n",
       "      <td>1</td>\n",
       "      <td>15</td>\n",
       "      <td>382</td>\n",
       "      <td>18</td>\n",
       "      <td>7</td>\n",
       "      <td>Flat</td>\n",
       "      <td>Mud mortar-Stone/Brick</td>\n",
       "      <td>Bamboo/Timber-Light roof</td>\n",
       "      <td>Mud</td>\n",
       "      <td>TImber/Bamboo-Mud</td>\n",
       "      <td>Not attached</td>\n",
       "      <td>Rectangular</td>\n",
       "      <td>Damaged-Used in risk</td>\n",
       "      <td>Stone, mud mortar</td>\n",
       "      <td>Grade 4</td>\n",
       "    </tr>\n",
       "    <tr>\n",
       "      <th>2</th>\n",
       "      <td>87479</td>\n",
       "      <td>87479</td>\n",
       "      <td>1</td>\n",
       "      <td>0</td>\n",
       "      <td>12</td>\n",
       "      <td>328</td>\n",
       "      <td>7</td>\n",
       "      <td>0</td>\n",
       "      <td>Flat</td>\n",
       "      <td>Mud mortar-Stone/Brick</td>\n",
       "      <td>Bamboo/Timber-Light roof</td>\n",
       "      <td>Mud</td>\n",
       "      <td>Not applicable</td>\n",
       "      <td>Not attached</td>\n",
       "      <td>Rectangular</td>\n",
       "      <td>Damaged-Rubble clear</td>\n",
       "      <td>Stone, mud mortar</td>\n",
       "      <td>Grade 5</td>\n",
       "    </tr>\n",
       "    <tr>\n",
       "      <th>3</th>\n",
       "      <td>87482</td>\n",
       "      <td>87482</td>\n",
       "      <td>2</td>\n",
       "      <td>1</td>\n",
       "      <td>23</td>\n",
       "      <td>427</td>\n",
       "      <td>20</td>\n",
       "      <td>7</td>\n",
       "      <td>Flat</td>\n",
       "      <td>Mud mortar-Stone/Brick</td>\n",
       "      <td>Bamboo/Timber-Light roof</td>\n",
       "      <td>Mud</td>\n",
       "      <td>TImber/Bamboo-Mud</td>\n",
       "      <td>Not attached</td>\n",
       "      <td>Rectangular</td>\n",
       "      <td>Damaged-Not used</td>\n",
       "      <td>Stone, mud mortar</td>\n",
       "      <td>Grade 4</td>\n",
       "    </tr>\n",
       "    <tr>\n",
       "      <th>4</th>\n",
       "      <td>87491</td>\n",
       "      <td>87491</td>\n",
       "      <td>2</td>\n",
       "      <td>1</td>\n",
       "      <td>12</td>\n",
       "      <td>427</td>\n",
       "      <td>14</td>\n",
       "      <td>7</td>\n",
       "      <td>Flat</td>\n",
       "      <td>Mud mortar-Stone/Brick</td>\n",
       "      <td>Bamboo/Timber-Light roof</td>\n",
       "      <td>Mud</td>\n",
       "      <td>TImber/Bamboo-Mud</td>\n",
       "      <td>Not attached</td>\n",
       "      <td>Rectangular</td>\n",
       "      <td>Damaged-Not used</td>\n",
       "      <td>Stone, mud mortar</td>\n",
       "      <td>Grade 4</td>\n",
       "    </tr>\n",
       "  </tbody>\n",
       "</table>\n",
       "</div>"
      ],
      "text/plain": [
       "    b_id  building_id  count_floors_pre_eq  count_floors_post_eq  \\\n",
       "0  87473        87473                    2                     1   \n",
       "1  87473        87473                    2                     1   \n",
       "2  87479        87479                    1                     0   \n",
       "3  87482        87482                    2                     1   \n",
       "4  87491        87491                    2                     1   \n",
       "\n",
       "   age_building  plinth_area_sq_ft  height_ft_pre_eq  height_ft_post_eq  \\\n",
       "0            15                382                18                  7   \n",
       "1            15                382                18                  7   \n",
       "2            12                328                 7                  0   \n",
       "3            23                427                20                  7   \n",
       "4            12                427                14                  7   \n",
       "\n",
       "  land_surface_condition         foundation_type                 roof_type  \\\n",
       "0                   Flat  Mud mortar-Stone/Brick  Bamboo/Timber-Light roof   \n",
       "1                   Flat  Mud mortar-Stone/Brick  Bamboo/Timber-Light roof   \n",
       "2                   Flat  Mud mortar-Stone/Brick  Bamboo/Timber-Light roof   \n",
       "3                   Flat  Mud mortar-Stone/Brick  Bamboo/Timber-Light roof   \n",
       "4                   Flat  Mud mortar-Stone/Brick  Bamboo/Timber-Light roof   \n",
       "\n",
       "  ground_floor_type   other_floor_type      position plan_configuration  \\\n",
       "0               Mud  TImber/Bamboo-Mud  Not attached        Rectangular   \n",
       "1               Mud  TImber/Bamboo-Mud  Not attached        Rectangular   \n",
       "2               Mud     Not applicable  Not attached        Rectangular   \n",
       "3               Mud  TImber/Bamboo-Mud  Not attached        Rectangular   \n",
       "4               Mud  TImber/Bamboo-Mud  Not attached        Rectangular   \n",
       "\n",
       "      condition_post_eq     superstructure damage_grade  \n",
       "0  Damaged-Used in risk  Stone, mud mortar      Grade 4  \n",
       "1  Damaged-Used in risk  Stone, mud mortar      Grade 4  \n",
       "2  Damaged-Rubble clear  Stone, mud mortar      Grade 5  \n",
       "3      Damaged-Not used  Stone, mud mortar      Grade 4  \n",
       "4      Damaged-Not used  Stone, mud mortar      Grade 4  "
      ]
     },
     "execution_count": 24,
     "metadata": {},
     "output_type": "execute_result"
    }
   ],
   "source": [
    "%%sql\n",
    "SELECT idm.building_id AS b_id,\n",
    "        bs.*,\n",
    "        bd.damage_grade\n",
    "        \n",
    "\n",
    "FROM id_map AS idm\n",
    "\n",
    "JOIN building_structure AS bs\n",
    "ON idm.building_id = bs.building_id\n",
    "\n",
    "JOIN building_damage AS bd\n",
    "ON bs.building_id = bd.building_id\n",
    " \n",
    "\n",
    "WHERE district_id = 3\n",
    "\n",
    "LIMIT 5"
   ]
  },
  {
   "cell_type": "markdown",
   "id": "b8d9b9ed",
   "metadata": {},
   "source": [
    "## Import"
   ]
  },
  {
   "cell_type": "markdown",
   "id": "5c95b930",
   "metadata": {},
   "source": [
    "**Task 4.5.5:** Write a `wrangle` function that will use the query you created in the previous task to create a DataFrame. In addition your function should:\n",
    "\n",
    "1. Create a `\"severe_damage\"` column, where all buildings with a damage grade greater than `3` should be encoded as `1`. All other buildings should be encoded at `0`. \n",
    "2. Drop any columns that could cause issues with leakage or multicollinearity in your model."
   ]
  },
  {
   "cell_type": "code",
   "execution_count": 25,
   "id": "97ed87c5",
   "metadata": {},
   "outputs": [],
   "source": [
    "# Build your `wrangle` function here\n",
    "def wrangle(db_path):\n",
    "    #connect to database\n",
    "    conn = sqlite3.connect(db_path)\n",
    "    \n",
    "    #Construct query\n",
    "    query=\"\"\"\n",
    "    SELECT idm.building_id AS b_id,\n",
    "        bs.*,\n",
    "        bd.damage_grade\n",
    "        \n",
    "\n",
    "    FROM id_map AS idm\n",
    "\n",
    "    JOIN building_structure AS bs\n",
    "        ON idm.building_id = bs.building_id\n",
    "\n",
    "    JOIN building_damage AS bd\n",
    "        ON bs.building_id = bd.building_id\n",
    "\n",
    "\n",
    "    WHERE district_id = 3\n",
    "    \"\"\"\n",
    "    \n",
    "    #Read query result intos into Dataframe\n",
    "    df = pd.read_sql(query,conn,index_col=\"b_id\")\n",
    "    \n",
    "    # Identify leaky columns\n",
    "    drop_cols = [col for col in df.columns if \"post_eq\" in col]\n",
    "\n",
    "    # Add high-cardinality / redundant column\n",
    "    drop_cols.append(\"building_id\")\n",
    "\n",
    "    # Create binary target column\n",
    "    df[\"damage_grade\"] = df[\"damage_grade\"].str[-1].astype(int)\n",
    "    df[\"severe_damage\"] = (df[\"damage_grade\"] > 3).astype(int)\n",
    "\n",
    "    # Drop old target\n",
    "    drop_cols.append(\"damage_grade\")\n",
    "\n",
    "    # Drop multicollinearity column\n",
    "    drop_cols.append(\"count_floors_pre_eq\")\n",
    "    \n",
    "    # Drop columns\n",
    "    df.drop(columns=drop_cols, inplace=True)\n",
    "    \n",
    "    return df"
   ]
  },
  {
   "cell_type": "markdown",
   "id": "7e9c6147",
   "metadata": {},
   "source": [
    "Use your `wrangle` function to query the database at `\"/home/jovyan/nepal.sqlite\"` and return  your cleaned results."
   ]
  },
  {
   "cell_type": "code",
   "execution_count": 26,
   "id": "f70ce778",
   "metadata": {},
   "outputs": [
    {
     "data": {
      "text/html": [
       "<div>\n",
       "<style scoped>\n",
       "    .dataframe tbody tr th:only-of-type {\n",
       "        vertical-align: middle;\n",
       "    }\n",
       "\n",
       "    .dataframe tbody tr th {\n",
       "        vertical-align: top;\n",
       "    }\n",
       "\n",
       "    .dataframe thead th {\n",
       "        text-align: right;\n",
       "    }\n",
       "</style>\n",
       "<table border=\"1\" class=\"dataframe\">\n",
       "  <thead>\n",
       "    <tr style=\"text-align: right;\">\n",
       "      <th></th>\n",
       "      <th>age_building</th>\n",
       "      <th>plinth_area_sq_ft</th>\n",
       "      <th>height_ft_pre_eq</th>\n",
       "      <th>land_surface_condition</th>\n",
       "      <th>foundation_type</th>\n",
       "      <th>roof_type</th>\n",
       "      <th>ground_floor_type</th>\n",
       "      <th>other_floor_type</th>\n",
       "      <th>position</th>\n",
       "      <th>plan_configuration</th>\n",
       "      <th>superstructure</th>\n",
       "      <th>severe_damage</th>\n",
       "    </tr>\n",
       "    <tr>\n",
       "      <th>b_id</th>\n",
       "      <th></th>\n",
       "      <th></th>\n",
       "      <th></th>\n",
       "      <th></th>\n",
       "      <th></th>\n",
       "      <th></th>\n",
       "      <th></th>\n",
       "      <th></th>\n",
       "      <th></th>\n",
       "      <th></th>\n",
       "      <th></th>\n",
       "      <th></th>\n",
       "    </tr>\n",
       "  </thead>\n",
       "  <tbody>\n",
       "    <tr>\n",
       "      <th>87473</th>\n",
       "      <td>15</td>\n",
       "      <td>382</td>\n",
       "      <td>18</td>\n",
       "      <td>Flat</td>\n",
       "      <td>Mud mortar-Stone/Brick</td>\n",
       "      <td>Bamboo/Timber-Light roof</td>\n",
       "      <td>Mud</td>\n",
       "      <td>TImber/Bamboo-Mud</td>\n",
       "      <td>Not attached</td>\n",
       "      <td>Rectangular</td>\n",
       "      <td>Stone, mud mortar</td>\n",
       "      <td>1</td>\n",
       "    </tr>\n",
       "    <tr>\n",
       "      <th>87473</th>\n",
       "      <td>15</td>\n",
       "      <td>382</td>\n",
       "      <td>18</td>\n",
       "      <td>Flat</td>\n",
       "      <td>Mud mortar-Stone/Brick</td>\n",
       "      <td>Bamboo/Timber-Light roof</td>\n",
       "      <td>Mud</td>\n",
       "      <td>TImber/Bamboo-Mud</td>\n",
       "      <td>Not attached</td>\n",
       "      <td>Rectangular</td>\n",
       "      <td>Stone, mud mortar</td>\n",
       "      <td>1</td>\n",
       "    </tr>\n",
       "    <tr>\n",
       "      <th>87479</th>\n",
       "      <td>12</td>\n",
       "      <td>328</td>\n",
       "      <td>7</td>\n",
       "      <td>Flat</td>\n",
       "      <td>Mud mortar-Stone/Brick</td>\n",
       "      <td>Bamboo/Timber-Light roof</td>\n",
       "      <td>Mud</td>\n",
       "      <td>Not applicable</td>\n",
       "      <td>Not attached</td>\n",
       "      <td>Rectangular</td>\n",
       "      <td>Stone, mud mortar</td>\n",
       "      <td>1</td>\n",
       "    </tr>\n",
       "    <tr>\n",
       "      <th>87482</th>\n",
       "      <td>23</td>\n",
       "      <td>427</td>\n",
       "      <td>20</td>\n",
       "      <td>Flat</td>\n",
       "      <td>Mud mortar-Stone/Brick</td>\n",
       "      <td>Bamboo/Timber-Light roof</td>\n",
       "      <td>Mud</td>\n",
       "      <td>TImber/Bamboo-Mud</td>\n",
       "      <td>Not attached</td>\n",
       "      <td>Rectangular</td>\n",
       "      <td>Stone, mud mortar</td>\n",
       "      <td>1</td>\n",
       "    </tr>\n",
       "    <tr>\n",
       "      <th>87491</th>\n",
       "      <td>12</td>\n",
       "      <td>427</td>\n",
       "      <td>14</td>\n",
       "      <td>Flat</td>\n",
       "      <td>Mud mortar-Stone/Brick</td>\n",
       "      <td>Bamboo/Timber-Light roof</td>\n",
       "      <td>Mud</td>\n",
       "      <td>TImber/Bamboo-Mud</td>\n",
       "      <td>Not attached</td>\n",
       "      <td>Rectangular</td>\n",
       "      <td>Stone, mud mortar</td>\n",
       "      <td>1</td>\n",
       "    </tr>\n",
       "  </tbody>\n",
       "</table>\n",
       "</div>"
      ],
      "text/plain": [
       "       age_building  plinth_area_sq_ft  height_ft_pre_eq  \\\n",
       "b_id                                                       \n",
       "87473            15                382                18   \n",
       "87473            15                382                18   \n",
       "87479            12                328                 7   \n",
       "87482            23                427                20   \n",
       "87491            12                427                14   \n",
       "\n",
       "      land_surface_condition         foundation_type  \\\n",
       "b_id                                                   \n",
       "87473                   Flat  Mud mortar-Stone/Brick   \n",
       "87473                   Flat  Mud mortar-Stone/Brick   \n",
       "87479                   Flat  Mud mortar-Stone/Brick   \n",
       "87482                   Flat  Mud mortar-Stone/Brick   \n",
       "87491                   Flat  Mud mortar-Stone/Brick   \n",
       "\n",
       "                      roof_type ground_floor_type   other_floor_type  \\\n",
       "b_id                                                                   \n",
       "87473  Bamboo/Timber-Light roof               Mud  TImber/Bamboo-Mud   \n",
       "87473  Bamboo/Timber-Light roof               Mud  TImber/Bamboo-Mud   \n",
       "87479  Bamboo/Timber-Light roof               Mud     Not applicable   \n",
       "87482  Bamboo/Timber-Light roof               Mud  TImber/Bamboo-Mud   \n",
       "87491  Bamboo/Timber-Light roof               Mud  TImber/Bamboo-Mud   \n",
       "\n",
       "           position plan_configuration     superstructure  severe_damage  \n",
       "b_id                                                                      \n",
       "87473  Not attached        Rectangular  Stone, mud mortar              1  \n",
       "87473  Not attached        Rectangular  Stone, mud mortar              1  \n",
       "87479  Not attached        Rectangular  Stone, mud mortar              1  \n",
       "87482  Not attached        Rectangular  Stone, mud mortar              1  \n",
       "87491  Not attached        Rectangular  Stone, mud mortar              1  "
      ]
     },
     "execution_count": 26,
     "metadata": {},
     "output_type": "execute_result"
    }
   ],
   "source": [
    "df = wrangle(\"nepals.sqlite\")\n",
    "df.head()"
   ]
  },
  {
   "cell_type": "markdown",
   "id": "b03cf6c8",
   "metadata": {},
   "source": [
    "\n",
    "\n",
    "## Explore"
   ]
  },
  {
   "cell_type": "markdown",
   "id": "46f0eb62",
   "metadata": {},
   "source": [
    "**Task 4.5.6:** Are the classes in this dataset balanced? Create a bar chart with the normalized value counts from the `\"severe_damage\"` column. Be sure to label the x-axis `\"Severe Damage\"` and the y-axis `\"Relative Frequency\"`. Use the title `\"Kavrepalanchok, Class Balance\"`.\n",
    "**Task 4.5.6:** Are the classes in this dataset balanced? Create a bar chart with the normalized value counts from the `\"severe_damage\"` column. Be sure to label the x-axis `\"Severe Damage\"` and the y-axis `\"Relative Frequency\"`. Use the title `\"Kavrepalanchok, Class Balance\"`."
   ]
  },
  {
   "cell_type": "code",
   "execution_count": 27,
   "id": "78efe092",
   "metadata": {},
   "outputs": [
    {
     "data": {
      "text/plain": [
       "Text(0.5, 1.0, 'Kavrepalanchok, Class Balance')"
      ]
     },
     "execution_count": 27,
     "metadata": {},
     "output_type": "execute_result"
    },
    {
     "data": {
      "image/png": "[encoded data removed]",
      "text/plain": [
       "<Figure size 432x288 with 1 Axes>"
      ]
     },
     "metadata": {
      "needs_background": "light"
     },
     "output_type": "display_data"
    }
   ],
   "source": [
    "# Plot value counts of `\"severe_damage\"`\n",
    "severe_chart =df[\"severe_damage\"].value_counts(normalize=True)\n",
    "severe_chart.plot(kind=\"barh\")\n",
    "plt.xlabel(\"Severe Damage\")\n",
    "plt.ylabel(\"Relative Frequency\")\n",
    "plt.title(\"Kavrepalanchok, Class Balance\")\n",
    "\n",
    "# Don't delete the code below 👇\n",
    "#plt.savefig(\"images/4-5-6.png\", dpi=150)\n"
   ]
  },
  {
   "cell_type": "markdown",
   "id": "671ece61",
   "metadata": {},
   "source": [
    "**Task 4.5.7:** Is there a relationship between the footprint size of a building and the damage it sustained in the earthquake? Use seaborn to create a boxplot that shows the distributions of the `\"plinth_area_sq_ft\"` column for both groups in the `\"severe_damage\"` column. Label your x-axis `\"Severe Damage\"` and y-axis `\"Plinth Area [sq. ft.]\"`. Use the title `\"Kavrepalanchok, Plinth Area vs Building Damage\"`. "
   ]
  },
  {
   "cell_type": "code",
   "execution_count": 28,
   "id": "98830eb7",
   "metadata": {},
   "outputs": [
    {
     "data": {
      "text/plain": [
       "Text(0.5, 1.0, 'Kavrepalanchok, Plinth Area vs Building Damage')"
      ]
     },
     "execution_count": 28,
     "metadata": {},
     "output_type": "execute_result"
    },
    {
     "data": {
      "image/png": "[encoded data removed]",
      "text/plain": [
       "<Figure size 432x288 with 1 Axes>"
      ]
     },
     "metadata": {
      "needs_background": "light"
     },
     "output_type": "display_data"
    }
   ],
   "source": [
    "severe_box = sns.boxplot(x=df[\"severe_damage\"],y=df[\"plinth_area_sq_ft\"])\n",
    "severe_box.set_xlabel(\"Severe Damage\")\n",
    "severe_box.set_ylabel(\"Plinth Area [sq. ft.]\")\n",
    "severe_box.set_title(\"Kavrepalanchok, Plinth Area vs Building Damage\")\n",
    "# Don't delete the code below 👇\n",
    "#plt.savefig(\"images/4-5-7.png\", dpi=150)\n"
   ]
  },
  {
   "cell_type": "markdown",
   "id": "623438fa",
   "metadata": {},
   "source": [
    "**Task 4.5.8:** Are buildings with certain roof types more likely to suffer severe damage? Create a pivot table of `df` where the index is `\"roof_type\"` and the values come from the `\"severe_damage\"` column, aggregated by the mean."
   ]
  },
  {
   "cell_type": "code",
   "execution_count": 29,
   "id": "f13d4e21",
   "metadata": {},
   "outputs": [
    {
     "data": {
      "text/html": [
       "<div>\n",
       "<style scoped>\n",
       "    .dataframe tbody tr th:only-of-type {\n",
       "        vertical-align: middle;\n",
       "    }\n",
       "\n",
       "    .dataframe tbody tr th {\n",
       "        vertical-align: top;\n",
       "    }\n",
       "\n",
       "    .dataframe thead th {\n",
       "        text-align: right;\n",
       "    }\n",
       "</style>\n",
       "<table border=\"1\" class=\"dataframe\">\n",
       "  <thead>\n",
       "    <tr style=\"text-align: right;\">\n",
       "      <th></th>\n",
       "      <th>severe_damage</th>\n",
       "    </tr>\n",
       "    <tr>\n",
       "      <th>roof_type</th>\n",
       "      <th></th>\n",
       "    </tr>\n",
       "  </thead>\n",
       "  <tbody>\n",
       "    <tr>\n",
       "      <th>Bamboo/Timber-Heavy roof</th>\n",
       "      <td>0.568324</td>\n",
       "    </tr>\n",
       "    <tr>\n",
       "      <th>Bamboo/Timber-Light roof</th>\n",
       "      <td>0.604864</td>\n",
       "    </tr>\n",
       "    <tr>\n",
       "      <th>RCC/RB/RBC</th>\n",
       "      <td>0.041575</td>\n",
       "    </tr>\n",
       "  </tbody>\n",
       "</table>\n",
       "</div>"
      ],
      "text/plain": [
       "                          severe_damage\n",
       "roof_type                              \n",
       "Bamboo/Timber-Heavy roof       0.568324\n",
       "Bamboo/Timber-Light roof       0.604864\n",
       "RCC/RB/RBC                     0.041575"
      ]
     },
     "execution_count": 29,
     "metadata": {},
     "output_type": "execute_result"
    }
   ],
   "source": [
    "roof_pivot = pd.pivot_table(df,\n",
    "                            index=['roof_type'],\n",
    "                            values='severe_damage',\n",
    "                            aggfunc='mean'\n",
    ")\n",
    "roof_pivot"
   ]
  },
  {
   "cell_type": "markdown",
   "id": "405d8405",
   "metadata": {},
   "source": [
    "## Split"
   ]
  },
  {
   "cell_type": "markdown",
   "id": "3315acab",
   "metadata": {},
   "source": [
    "**Task 4.5.9:** Create your feature matrix `X` and target vector `y`. Your target is `\"severe_damage\"`. "
   ]
  },
  {
   "cell_type": "code",
   "execution_count": 79,
   "id": "20b5301a",
   "metadata": {},
   "outputs": [
    {
     "name": "stdout",
     "output_type": "stream",
     "text": [
      "X shape: (82684, 11)\n",
      "y shape: (82684,)\n"
     ]
    }
   ],
   "source": [
    "target= \"severe_damage\"\n",
    "X_train = df.drop(columns=[target])\n",
    "y_train = df[target]\n",
    "print(\"X shape:\", X.shape)\n",
    "print(\"y shape:\", y.shape)"
   ]
  },
  {
   "cell_type": "markdown",
   "id": "7f4c9329",
   "metadata": {},
   "source": [
    "**Task 4.5.10:** Divide your dataset into training and validation sets using a randomized split. Your validation set should be 20% of your data."
   ]
  },
  {
   "cell_type": "code",
   "execution_count": 81,
   "id": "d79c2b95",
   "metadata": {},
   "outputs": [
    {
     "name": "stdout",
     "output_type": "stream",
     "text": [
      "X_train shape: (52917, 11)\n",
      "y_train shape: (52917,)\n",
      "X_val shape: (13230, 11)\n",
      "y_val shape: (13230,)\n"
     ]
    }
   ],
   "source": [
    "X_train, X_val, y_train, y_val = train_test_split(\n",
    "    X_train,y_train,test_size=0.2, random_state=42\n",
    ")\n",
    "print(\"X_train shape:\", X_train.shape)\n",
    "print(\"y_train shape:\", y_train.shape)\n",
    "print(\"X_val shape:\", X_val.shape)\n",
    "print(\"y_val shape:\", y_val.shape)"
   ]
  },
  {
   "cell_type": "markdown",
   "id": "5e74acf7",
   "metadata": {},
   "source": [
    "# Build Model"
   ]
  },
  {
   "cell_type": "markdown",
   "id": "3fdaffa9",
   "metadata": {},
   "source": [
    "## Baseline"
   ]
  },
  {
   "cell_type": "markdown",
   "id": "cf625d7a",
   "metadata": {},
   "source": [
    "**Task 4.5.11:** Calculate the baseline accuracy score for your model."
   ]
  },
  {
   "cell_type": "code",
   "execution_count": 82,
   "id": "cc7d6c51",
   "metadata": {},
   "outputs": [
    {
     "name": "stdout",
     "output_type": "stream",
     "text": [
      "Baseline Accuracy: 0.55\n"
     ]
    }
   ],
   "source": [
    "acc_baseline = y_train.value_counts(normalize=True).max()\n",
    "print(\"Baseline Accuracy:\", round(acc_baseline, 2))"
   ]
  },
  {
   "cell_type": "markdown",
   "id": "e6f838db",
   "metadata": {},
   "source": [
    "## Iterate"
   ]
  },
  {
   "cell_type": "markdown",
   "id": "5dcc3ecc",
   "metadata": {},
   "source": [
    "**Task 4.5.12:** Create a model `model_lr` that uses logistic regression to predict building damage. Be sure to include an appropriate encoder for categorical features. "
   ]
  },
  {
   "cell_type": "code",
   "execution_count": 83,
   "id": "e664b571",
   "metadata": {},
   "outputs": [
    {
     "data": {
      "text/html": [
       "<style>#sk-container-id-7 {color: black;background-color: white;}#sk-container-id-7 pre{padding: 0;}#sk-container-id-7 div.sk-toggleable {background-color: white;}#sk-container-id-7 label.sk-toggleable__label {cursor: pointer;display: block;width: 100%;margin-bottom: 0;padding: 0.3em;box-sizing: border-box;text-align: center;}#sk-container-id-7 label.sk-toggleable__label-arrow:before {content: \"▸\";float: left;margin-right: 0.25em;color: #696969;}#sk-container-id-7 label.sk-toggleable__label-arrow:hover:before {color: black;}#sk-container-id-7 div.sk-estimator:hover label.sk-toggleable__label-arrow:before {color: black;}#sk-container-id-7 div.sk-toggleable__content {max-height: 0;max-width: 0;overflow: hidden;text-align: left;background-color: #f0f8ff;}#sk-container-id-7 div.sk-toggleable__content pre {margin: 0.2em;color: black;border-radius: 0.25em;background-color: #f0f8ff;}#sk-container-id-7 input.sk-toggleable__control:checked~div.sk-toggleable__content {max-height: 200px;max-width: 100%;overflow: auto;}#sk-container-id-7 input.sk-toggleable__control:checked~label.sk-toggleable__label-arrow:before {content: \"▾\";}#sk-container-id-7 div.sk-estimator input.sk-toggleable__control:checked~label.sk-toggleable__label {background-color: #d4ebff;}#sk-container-id-7 div.sk-label input.sk-toggleable__control:checked~label.sk-toggleable__label {background-color: #d4ebff;}#sk-container-id-7 input.sk-hidden--visually {border: 0;clip: rect(1px 1px 1px 1px);clip: rect(1px, 1px, 1px, 1px);height: 1px;margin: -1px;overflow: hidden;padding: 0;position: absolute;width: 1px;}#sk-container-id-7 div.sk-estimator {font-family: monospace;background-color: #f0f8ff;border: 1px dotted black;border-radius: 0.25em;box-sizing: border-box;margin-bottom: 0.5em;}#sk-container-id-7 div.sk-estimator:hover {background-color: #d4ebff;}#sk-container-id-7 div.sk-parallel-item::after {content: \"\";width: 100%;border-bottom: 1px solid gray;flex-grow: 1;}#sk-container-id-7 div.sk-label:hover label.sk-toggleable__label {background-color: #d4ebff;}#sk-container-id-7 div.sk-serial::before {content: \"\";position: absolute;border-left: 1px solid gray;box-sizing: border-box;top: 0;bottom: 0;left: 50%;z-index: 0;}#sk-container-id-7 div.sk-serial {display: flex;flex-direction: column;align-items: center;background-color: white;padding-right: 0.2em;padding-left: 0.2em;position: relative;}#sk-container-id-7 div.sk-item {position: relative;z-index: 1;}#sk-container-id-7 div.sk-parallel {display: flex;align-items: stretch;justify-content: center;background-color: white;position: relative;}#sk-container-id-7 div.sk-item::before, #sk-container-id-7 div.sk-parallel-item::before {content: \"\";position: absolute;border-left: 1px solid gray;box-sizing: border-box;top: 0;bottom: 0;left: 50%;z-index: -1;}#sk-container-id-7 div.sk-parallel-item {display: flex;flex-direction: column;z-index: 1;position: relative;background-color: white;}#sk-container-id-7 div.sk-parallel-item:first-child::after {align-self: flex-end;width: 50%;}#sk-container-id-7 div.sk-parallel-item:last-child::after {align-self: flex-start;width: 50%;}#sk-container-id-7 div.sk-parallel-item:only-child::after {width: 0;}#sk-container-id-7 div.sk-dashed-wrapped {border: 1px dashed gray;margin: 0 0.4em 0.5em 0.4em;box-sizing: border-box;padding-bottom: 0.4em;background-color: white;}#sk-container-id-7 div.sk-label label {font-family: monospace;font-weight: bold;display: inline-block;line-height: 1.2em;}#sk-container-id-7 div.sk-label-container {text-align: center;}#sk-container-id-7 div.sk-container {/* jupyter's `normalize.less` sets `[hidden] { display: none; }` but bootstrap.min.css set `[hidden] { display: none !important; }` so we also need the `!important` here to be able to override the default hidden behavior on the sphinx rendered scikit-learn.org. See: https://github.com/scikit-learn/scikit-learn/issues/21755 */display: inline-block !important;position: relative;}#sk-container-id-7 div.sk-text-repr-fallback {display: none;}</style><div id=\"sk-container-id-7\" class=\"sk-top-container\"><div class=\"sk-text-repr-fallback\"><pre>Pipeline(steps=[(&#x27;onehotencoder&#x27;,\n",
       "                 OneHotEncoder(cols=[&#x27;land_surface_condition&#x27;,\n",
       "                                     &#x27;foundation_type&#x27;, &#x27;roof_type&#x27;,\n",
       "                                     &#x27;ground_floor_type&#x27;, &#x27;other_floor_type&#x27;,\n",
       "                                     &#x27;position&#x27;, &#x27;plan_configuration&#x27;,\n",
       "                                     &#x27;superstructure&#x27;],\n",
       "                               use_cat_names=True)),\n",
       "                (&#x27;logisticregression&#x27;, LogisticRegression(max_iter=1000))])</pre><b>In a Jupyter environment, please rerun this cell to show the HTML representation or trust the notebook. <br />On GitHub, the HTML representation is unable to render, please try loading this page with nbviewer.org.</b></div><div class=\"sk-container\" hidden><div class=\"sk-item sk-dashed-wrapped\"><div class=\"sk-label-container\"><div class=\"sk-label sk-toggleable\"><input class=\"sk-toggleable__control sk-hidden--visually\" id=\"sk-estimator-id-19\" type=\"checkbox\" ><label for=\"sk-estimator-id-19\" class=\"sk-toggleable__label sk-toggleable__label-arrow\">Pipeline</label><div class=\"sk-toggleable__content\"><pre>Pipeline(steps=[(&#x27;onehotencoder&#x27;,\n",
       "                 OneHotEncoder(cols=[&#x27;land_surface_condition&#x27;,\n",
       "                                     &#x27;foundation_type&#x27;, &#x27;roof_type&#x27;,\n",
       "                                     &#x27;ground_floor_type&#x27;, &#x27;other_floor_type&#x27;,\n",
       "                                     &#x27;position&#x27;, &#x27;plan_configuration&#x27;,\n",
       "                                     &#x27;superstructure&#x27;],\n",
       "                               use_cat_names=True)),\n",
       "                (&#x27;logisticregression&#x27;, LogisticRegression(max_iter=1000))])</pre></div></div></div><div class=\"sk-serial\"><div class=\"sk-item\"><div class=\"sk-estimator sk-toggleable\"><input class=\"sk-toggleable__control sk-hidden--visually\" id=\"sk-estimator-id-20\" type=\"checkbox\" ><label for=\"sk-estimator-id-20\" class=\"sk-toggleable__label sk-toggleable__label-arrow\">OneHotEncoder</label><div class=\"sk-toggleable__content\"><pre>OneHotEncoder(cols=[&#x27;land_surface_condition&#x27;, &#x27;foundation_type&#x27;, &#x27;roof_type&#x27;,\n",
       "                    &#x27;ground_floor_type&#x27;, &#x27;other_floor_type&#x27;, &#x27;position&#x27;,\n",
       "                    &#x27;plan_configuration&#x27;, &#x27;superstructure&#x27;],\n",
       "              use_cat_names=True)</pre></div></div></div><div class=\"sk-item\"><div class=\"sk-estimator sk-toggleable\"><input class=\"sk-toggleable__control sk-hidden--visually\" id=\"sk-estimator-id-21\" type=\"checkbox\" ><label for=\"sk-estimator-id-21\" class=\"sk-toggleable__label sk-toggleable__label-arrow\">LogisticRegression</label><div class=\"sk-toggleable__content\"><pre>LogisticRegression(max_iter=1000)</pre></div></div></div></div></div></div></div>"
      ],
      "text/plain": [
       "Pipeline(steps=[('onehotencoder',\n",
       "                 OneHotEncoder(cols=['land_surface_condition',\n",
       "                                     'foundation_type', 'roof_type',\n",
       "                                     'ground_floor_type', 'other_floor_type',\n",
       "                                     'position', 'plan_configuration',\n",
       "                                     'superstructure'],\n",
       "                               use_cat_names=True)),\n",
       "                ('logisticregression', LogisticRegression(max_iter=1000))])"
      ]
     },
     "execution_count": 83,
     "metadata": {},
     "output_type": "execute_result"
    }
   ],
   "source": [
    "#build model\n",
    "model_lr = make_pipeline(\n",
    "    OneHotEncoder(use_cat_names=True),\n",
    "    LogisticRegression(max_iter=1000)\n",
    "    \n",
    ")\n",
    "#fit model to trainning data\n",
    "model_lr.fit(X_train,y_train)"
   ]
  },
  {
   "cell_type": "markdown",
   "id": "91d7f8b8",
   "metadata": {},
   "source": [
    "**Task 4.5.13:** Calculate training and validation accuracy score for `model_lr`. "
   ]
  },
  {
   "cell_type": "code",
   "execution_count": 84,
   "id": "30e57800",
   "metadata": {},
   "outputs": [
    {
     "name": "stdout",
     "output_type": "stream",
     "text": [
      "Logistic Regression, Training Accuracy Score: 0.6523612449685356\n",
      "Logistic Regression, Validation Accuracy Score: 0.6523053665910808\n"
     ]
    }
   ],
   "source": [
    "lr_train_acc = model_lr.score(X_train,y_train)\n",
    "lr_val_acc = model_lr.score(X_val,y_val)\n",
    "\n",
    "print(\"Logistic Regression, Training Accuracy Score:\", lr_train_acc)\n",
    "print(\"Logistic Regression, Validation Accuracy Score:\", lr_val_acc)"
   ]
  },
  {
   "cell_type": "markdown",
   "id": "e1fc2261",
   "metadata": {},
   "source": [
    "**Task 4.5.14:** Perhaps a decision tree model will perform better than logistic regression, but what's the best hyperparameter value for `max_depth`? Create a `for` loop to train and evaluate the model `model_dt` at all depths from 1 to 15. Be sure to use an appropriate encoder for your model, and to record its training and validation accuracy scores at every depth. The grader will evaluate your validation accuracy scores only."
   ]
  },
  {
   "cell_type": "code",
   "execution_count": 85,
   "id": "1fb42722",
   "metadata": {},
   "outputs": [],
   "source": [
    "depth_hyperparams = range(1, 16)\n",
    "training_acc = []\n",
    "validation_acc = []\n",
    "for d in depth_hyperparams:\n",
    "    model_dt = make_pipeline(\n",
    "                        OrdinalEncoder(),\n",
    "                        DecisionTreeClassifier(max_depth=d, random_state=42)\n",
    "    )\n",
    "    model_dt.fit(X_train, y_train)\n",
    "    training_acc.append(model_dt.score(X_train,y_train))\n",
    "    validation_acc.append(model_dt.score(X_val,y_val))"
   ]
  },
  {
   "cell_type": "code",
   "execution_count": 86,
   "id": "94b5eba0",
   "metadata": {},
   "outputs": [
    {
     "name": "stdout",
     "output_type": "stream",
     "text": [
      "Trainging acc :  [0.6336527014003062, 0.6365818168074532, 0.6436305913033619, 0.6553659504507058, 0.656499801576053, 0.6612619763025115, 0.66458793960353, 0.6712398662055672, 0.6776272275450234, 0.6859988283538372, 0.6954664852504866, 0.7064648411663549, 0.7182190978324546, 0.7329024699057014, 0.7485307179167375]\n",
      "Validation acc :  [0.6387755102040816, 0.6431594860166289, 0.6486772486772486, 0.6575207860922146, 0.6589569160997732, 0.6608465608465608, 0.6609221466364323, 0.6647770219198791, 0.6620559334845049, 0.6654572940287226, 0.6637944066515495, 0.663114134542706, 0.664474678760393, 0.663114134542706, 0.6585034013605442]\n"
     ]
    }
   ],
   "source": [
    "\n",
    "\n",
    "print(\"Trainging acc : \",training_acc)\n",
    "print(\"Validation acc : \",validation_acc)"
   ]
  },
  {
   "cell_type": "markdown",
   "id": "291412bb",
   "metadata": {},
   "source": [
    "**Task 4.5.15:** Using the values in `training_acc` and `validation_acc`, plot the validation curve for `model_dt`. Label your x-axis `\"Max Depth\"` and your y-axis `\"Accuracy Score\"`. Use the title `\"Validation Curve, Decision Tree Model\"`, and include a legend. "
   ]
  },
  {
   "cell_type": "code",
   "execution_count": 87,
   "id": "f5be9b91",
   "metadata": {},
   "outputs": [
    {
     "data": {
      "image/png": "[encoded data removed]",
      "text/plain": [
       "<Figure size 432x288 with 1 Axes>"
      ]
     },
     "metadata": {
      "needs_background": "light"
     },
     "output_type": "display_data"
    }
   ],
   "source": [
    "\n",
    "# Don't delete the code below 👇\n",
    "plt.plot(depth_hyperparams,training_acc,label=\"Training\")\n",
    "plt.plot(depth_hyperparams,validation_acc,label=\"Validation\")\n",
    "plt.xlabel(\"Max Depth\")\n",
    "plt.ylabel(\"Accuracy Score\")\n",
    "plt.title(\"Validation Curve, Decision Tree Model\")\n",
    "plt.legend()\n",
    "\n",
    "plt.savefig(\"images/4-5-15.png\", dpi=150)\n"
   ]
  },
  {
   "cell_type": "markdown",
   "id": "8ccbb2e7",
   "metadata": {},
   "source": [
    "**Task 4.5.16:** Build and train a new decision tree model `final_model_dt`, using the value for `max_depth` that yielded the best validation accuracy score in your plot above. "
   ]
  },
  {
   "cell_type": "code",
   "execution_count": 91,
   "id": "655abbe7",
   "metadata": {},
   "outputs": [
    {
     "data": {
      "text/html": [
       "<style>#sk-container-id-9 {color: black;background-color: white;}#sk-container-id-9 pre{padding: 0;}#sk-container-id-9 div.sk-toggleable {background-color: white;}#sk-container-id-9 label.sk-toggleable__label {cursor: pointer;display: block;width: 100%;margin-bottom: 0;padding: 0.3em;box-sizing: border-box;text-align: center;}#sk-container-id-9 label.sk-toggleable__label-arrow:before {content: \"▸\";float: left;margin-right: 0.25em;color: #696969;}#sk-container-id-9 label.sk-toggleable__label-arrow:hover:before {color: black;}#sk-container-id-9 div.sk-estimator:hover label.sk-toggleable__label-arrow:before {color: black;}#sk-container-id-9 div.sk-toggleable__content {max-height: 0;max-width: 0;overflow: hidden;text-align: left;background-color: #f0f8ff;}#sk-container-id-9 div.sk-toggleable__content pre {margin: 0.2em;color: black;border-radius: 0.25em;background-color: #f0f8ff;}#sk-container-id-9 input.sk-toggleable__control:checked~div.sk-toggleable__content {max-height: 200px;max-width: 100%;overflow: auto;}#sk-container-id-9 input.sk-toggleable__control:checked~label.sk-toggleable__label-arrow:before {content: \"▾\";}#sk-container-id-9 div.sk-estimator input.sk-toggleable__control:checked~label.sk-toggleable__label {background-color: #d4ebff;}#sk-container-id-9 div.sk-label input.sk-toggleable__control:checked~label.sk-toggleable__label {background-color: #d4ebff;}#sk-container-id-9 input.sk-hidden--visually {border: 0;clip: rect(1px 1px 1px 1px);clip: rect(1px, 1px, 1px, 1px);height: 1px;margin: -1px;overflow: hidden;padding: 0;position: absolute;width: 1px;}#sk-container-id-9 div.sk-estimator {font-family: monospace;background-color: #f0f8ff;border: 1px dotted black;border-radius: 0.25em;box-sizing: border-box;margin-bottom: 0.5em;}#sk-container-id-9 div.sk-estimator:hover {background-color: #d4ebff;}#sk-container-id-9 div.sk-parallel-item::after {content: \"\";width: 100%;border-bottom: 1px solid gray;flex-grow: 1;}#sk-container-id-9 div.sk-label:hover label.sk-toggleable__label {background-color: #d4ebff;}#sk-container-id-9 div.sk-serial::before {content: \"\";position: absolute;border-left: 1px solid gray;box-sizing: border-box;top: 0;bottom: 0;left: 50%;z-index: 0;}#sk-container-id-9 div.sk-serial {display: flex;flex-direction: column;align-items: center;background-color: white;padding-right: 0.2em;padding-left: 0.2em;position: relative;}#sk-container-id-9 div.sk-item {position: relative;z-index: 1;}#sk-container-id-9 div.sk-parallel {display: flex;align-items: stretch;justify-content: center;background-color: white;position: relative;}#sk-container-id-9 div.sk-item::before, #sk-container-id-9 div.sk-parallel-item::before {content: \"\";position: absolute;border-left: 1px solid gray;box-sizing: border-box;top: 0;bottom: 0;left: 50%;z-index: -1;}#sk-container-id-9 div.sk-parallel-item {display: flex;flex-direction: column;z-index: 1;position: relative;background-color: white;}#sk-container-id-9 div.sk-parallel-item:first-child::after {align-self: flex-end;width: 50%;}#sk-container-id-9 div.sk-parallel-item:last-child::after {align-self: flex-start;width: 50%;}#sk-container-id-9 div.sk-parallel-item:only-child::after {width: 0;}#sk-container-id-9 div.sk-dashed-wrapped {border: 1px dashed gray;margin: 0 0.4em 0.5em 0.4em;box-sizing: border-box;padding-bottom: 0.4em;background-color: white;}#sk-container-id-9 div.sk-label label {font-family: monospace;font-weight: bold;display: inline-block;line-height: 1.2em;}#sk-container-id-9 div.sk-label-container {text-align: center;}#sk-container-id-9 div.sk-container {/* jupyter's `normalize.less` sets `[hidden] { display: none; }` but bootstrap.min.css set `[hidden] { display: none !important; }` so we also need the `!important` here to be able to override the default hidden behavior on the sphinx rendered scikit-learn.org. See: https://github.com/scikit-learn/scikit-learn/issues/21755 */display: inline-block !important;position: relative;}#sk-container-id-9 div.sk-text-repr-fallback {display: none;}</style><div id=\"sk-container-id-9\" class=\"sk-top-container\"><div class=\"sk-text-repr-fallback\"><pre>Pipeline(steps=[(&#x27;ordinalencoder&#x27;,\n",
       "                 OrdinalEncoder(cols=[&#x27;land_surface_condition&#x27;,\n",
       "                                      &#x27;foundation_type&#x27;, &#x27;roof_type&#x27;,\n",
       "                                      &#x27;ground_floor_type&#x27;, &#x27;other_floor_type&#x27;,\n",
       "                                      &#x27;position&#x27;, &#x27;plan_configuration&#x27;,\n",
       "                                      &#x27;superstructure&#x27;],\n",
       "                                mapping=[{&#x27;col&#x27;: &#x27;land_surface_condition&#x27;,\n",
       "                                          &#x27;data_type&#x27;: dtype(&#x27;O&#x27;),\n",
       "                                          &#x27;mapping&#x27;: Flat              1\n",
       "Moderate slope    2\n",
       "Steep slope       3\n",
       "NaN              -2\n",
       "dtype: int64},\n",
       "                                         {&#x27;col&#x27;: &#x27;foundation_type&#x27;,\n",
       "                                          &#x27;dat...\n",
       "U-shape                             9\n",
       "Building with Central Courtyard    10\n",
       "NaN                                -2\n",
       "dtype: int64},\n",
       "                                         {&#x27;col&#x27;: &#x27;superstructure&#x27;,\n",
       "                                          &#x27;data_type&#x27;: dtype(&#x27;O&#x27;),\n",
       "                                          &#x27;mapping&#x27;: Stone, mud mortar        1\n",
       "RC, non-engineered       2\n",
       "Adobe/mud                3\n",
       "Brick, cement mortar     4\n",
       "Brick, mud mortar        5\n",
       "RC, engineered           6\n",
       "Stone, cement mortar     7\n",
       "Stone                    8\n",
       "Other                    9\n",
       "Timber                  10\n",
       "Bamboo                  11\n",
       "NaN                     -2\n",
       "dtype: int64}])),\n",
       "                (&#x27;decisiontreeclassifier&#x27;,\n",
       "                 DecisionTreeClassifier(max_depth=10, random_state=42))])</pre><b>In a Jupyter environment, please rerun this cell to show the HTML representation or trust the notebook. <br />On GitHub, the HTML representation is unable to render, please try loading this page with nbviewer.org.</b></div><div class=\"sk-container\" hidden><div class=\"sk-item sk-dashed-wrapped\"><div class=\"sk-label-container\"><div class=\"sk-label sk-toggleable\"><input class=\"sk-toggleable__control sk-hidden--visually\" id=\"sk-estimator-id-25\" type=\"checkbox\" ><label for=\"sk-estimator-id-25\" class=\"sk-toggleable__label sk-toggleable__label-arrow\">Pipeline</label><div class=\"sk-toggleable__content\"><pre>Pipeline(steps=[(&#x27;ordinalencoder&#x27;,\n",
       "                 OrdinalEncoder(cols=[&#x27;land_surface_condition&#x27;,\n",
       "                                      &#x27;foundation_type&#x27;, &#x27;roof_type&#x27;,\n",
       "                                      &#x27;ground_floor_type&#x27;, &#x27;other_floor_type&#x27;,\n",
       "                                      &#x27;position&#x27;, &#x27;plan_configuration&#x27;,\n",
       "                                      &#x27;superstructure&#x27;],\n",
       "                                mapping=[{&#x27;col&#x27;: &#x27;land_surface_condition&#x27;,\n",
       "                                          &#x27;data_type&#x27;: dtype(&#x27;O&#x27;),\n",
       "                                          &#x27;mapping&#x27;: Flat              1\n",
       "Moderate slope    2\n",
       "Steep slope       3\n",
       "NaN              -2\n",
       "dtype: int64},\n",
       "                                         {&#x27;col&#x27;: &#x27;foundation_type&#x27;,\n",
       "                                          &#x27;dat...\n",
       "U-shape                             9\n",
       "Building with Central Courtyard    10\n",
       "NaN                                -2\n",
       "dtype: int64},\n",
       "                                         {&#x27;col&#x27;: &#x27;superstructure&#x27;,\n",
       "                                          &#x27;data_type&#x27;: dtype(&#x27;O&#x27;),\n",
       "                                          &#x27;mapping&#x27;: Stone, mud mortar        1\n",
       "RC, non-engineered       2\n",
       "Adobe/mud                3\n",
       "Brick, cement mortar     4\n",
       "Brick, mud mortar        5\n",
       "RC, engineered           6\n",
       "Stone, cement mortar     7\n",
       "Stone                    8\n",
       "Other                    9\n",
       "Timber                  10\n",
       "Bamboo                  11\n",
       "NaN                     -2\n",
       "dtype: int64}])),\n",
       "                (&#x27;decisiontreeclassifier&#x27;,\n",
       "                 DecisionTreeClassifier(max_depth=10, random_state=42))])</pre></div></div></div><div class=\"sk-serial\"><div class=\"sk-item\"><div class=\"sk-estimator sk-toggleable\"><input class=\"sk-toggleable__control sk-hidden--visually\" id=\"sk-estimator-id-26\" type=\"checkbox\" ><label for=\"sk-estimator-id-26\" class=\"sk-toggleable__label sk-toggleable__label-arrow\">OrdinalEncoder</label><div class=\"sk-toggleable__content\"><pre>OrdinalEncoder(cols=[&#x27;land_surface_condition&#x27;, &#x27;foundation_type&#x27;, &#x27;roof_type&#x27;,\n",
       "                     &#x27;ground_floor_type&#x27;, &#x27;other_floor_type&#x27;, &#x27;position&#x27;,\n",
       "                     &#x27;plan_configuration&#x27;, &#x27;superstructure&#x27;],\n",
       "               mapping=[{&#x27;col&#x27;: &#x27;land_surface_condition&#x27;,\n",
       "                         &#x27;data_type&#x27;: dtype(&#x27;O&#x27;),\n",
       "                         &#x27;mapping&#x27;: Flat              1\n",
       "Moderate slope    2\n",
       "Steep slope       3\n",
       "NaN              -2\n",
       "dtype: int64},\n",
       "                        {&#x27;col&#x27;: &#x27;foundation_type&#x27;, &#x27;data_type&#x27;: dtype(&#x27;O&#x27;),\n",
       "                         &#x27;mapping&#x27;: Mud mo...\n",
       "                         &#x27;mapping&#x27;: Rectangular                         1\n",
       "Others                              2\n",
       "T-shape                             3\n",
       "Square                              4\n",
       "L-shape                             5\n",
       "Multi-projected                     6\n",
       "H-shape                             7\n",
       "E-shape                             8\n",
       "U-shape                             9\n",
       "Building with Central Courtyard    10\n",
       "NaN                                -2\n",
       "dtype: int64},\n",
       "                        {&#x27;col&#x27;: &#x27;superstructure&#x27;, &#x27;data_type&#x27;: dtype(&#x27;O&#x27;),\n",
       "                         &#x27;mapping&#x27;: Stone, mud mortar        1\n",
       "RC, non-engineered       2\n",
       "Adobe/mud                3\n",
       "Brick, cement mortar     4\n",
       "Brick, mud mortar        5\n",
       "RC, engineered           6\n",
       "Stone, cement mortar     7\n",
       "Stone                    8\n",
       "Other                    9\n",
       "Timber                  10\n",
       "Bamboo                  11\n",
       "NaN                     -2\n",
       "dtype: int64}])</pre></div></div></div><div class=\"sk-item\"><div class=\"sk-estimator sk-toggleable\"><input class=\"sk-toggleable__control sk-hidden--visually\" id=\"sk-estimator-id-27\" type=\"checkbox\" ><label for=\"sk-estimator-id-27\" class=\"sk-toggleable__label sk-toggleable__label-arrow\">DecisionTreeClassifier</label><div class=\"sk-toggleable__content\"><pre>DecisionTreeClassifier(max_depth=10, random_state=42)</pre></div></div></div></div></div></div></div>"
      ],
      "text/plain": [
       "Pipeline(steps=[('ordinalencoder',\n",
       "                 OrdinalEncoder(cols=['land_surface_condition',\n",
       "                                      'foundation_type', 'roof_type',\n",
       "                                      'ground_floor_type', 'other_floor_type',\n",
       "                                      'position', 'plan_configuration',\n",
       "                                      'superstructure'],\n",
       "                                mapping=[{'col': 'land_surface_condition',\n",
       "                                          'data_type': dtype('O'),\n",
       "                                          'mapping': Flat              1\n",
       "Moderate slope    2\n",
       "Steep slope       3\n",
       "NaN              -2\n",
       "dtype: int64},\n",
       "                                         {'col': 'foundation_type',\n",
       "                                          'dat...\n",
       "U-shape                             9\n",
       "Building with Central Courtyard    10\n",
       "NaN                                -2\n",
       "dtype: int64},\n",
       "                                         {'col': 'superstructure',\n",
       "                                          'data_type': dtype('O'),\n",
       "                                          'mapping': Stone, mud mortar        1\n",
       "RC, non-engineered       2\n",
       "Adobe/mud                3\n",
       "Brick, cement mortar     4\n",
       "Brick, mud mortar        5\n",
       "RC, engineered           6\n",
       "Stone, cement mortar     7\n",
       "Stone                    8\n",
       "Other                    9\n",
       "Timber                  10\n",
       "Bamboo                  11\n",
       "NaN                     -2\n",
       "dtype: int64}])),\n",
       "                ('decisiontreeclassifier',\n",
       "                 DecisionTreeClassifier(max_depth=10, random_state=42))])"
      ]
     },
     "execution_count": 91,
     "metadata": {},
     "output_type": "execute_result"
    }
   ],
   "source": [
    "final_model_dt = make_pipeline(\n",
    "                OrdinalEncoder(),\n",
    "                DecisionTreeClassifier(max_depth=10,random_state=42)\n",
    ")\n",
    "final_model_dt.fit(X_train,y_train)"
   ]
  },
  {
   "cell_type": "markdown",
   "id": "20b9e71b",
   "metadata": {},
   "source": [
    "## Evaluate"
   ]
  },
  {
   "cell_type": "markdown",
   "id": "00b0c7b6",
   "metadata": {},
   "source": [
    "**Task 4.5.17:** How does your model perform on the test set? First, read the CSV file `\"data/kavrepalanchok-test-features.csv\"` into the DataFrame `X_test`. Next, use `final_model_dt` to generate a list of test predictions `y_test_pred`. Finally, submit your test predictions to the grader to see how your model performs.\n",
    "\n",
    "**Tip:** Make sure the order of the columns in `X_test` is the same as in your `X_train`. Otherwise, it could hurt your model's performance."
   ]
  },
  {
   "cell_type": "code",
   "execution_count": 93,
   "id": "e2f3a612",
   "metadata": {},
   "outputs": [
    {
     "data": {
      "text/plain": [
       "array([1, 1, 1, 1, 0])"
      ]
     },
     "execution_count": 93,
     "metadata": {},
     "output_type": "execute_result"
    }
   ],
   "source": [
    "X_test = pd.read_csv(\"data/kavrepalanchok-test-features.csv\", index_col=\"b_id\")\n",
    "y_test_pred = final_model_dt.predict(X_test)\n",
    "y_test_pred[:5]"
   ]
  },
  {
   "cell_type": "markdown",
   "id": "c4c9108e",
   "metadata": {},
   "source": [
    "# Communicate Results"
   ]
  },
  {
   "cell_type": "markdown",
   "id": "3f4a41bf",
   "metadata": {},
   "source": [
    "**Task 4.5.18:** What are the most important features for `final_model_dt`? Create a Series Gini `feat_imp`, where the index labels are the feature names for your dataset and the values are the feature importances for your model. Be sure that the Series is sorted from smallest to largest feature importance. "
   ]
  },
  {
   "cell_type": "code",
   "execution_count": 99,
   "id": "b4d7a3c7",
   "metadata": {},
   "outputs": [
    {
     "data": {
      "text/plain": [
       "plan_configuration        0.002818\n",
       "ground_floor_type         0.007866\n",
       "position                  0.010045\n",
       "land_surface_condition    0.017048\n",
       "roof_type                 0.019576\n",
       "other_floor_type          0.032909\n",
       "plinth_area_sq_ft         0.088159\n",
       "age_building              0.118910\n",
       "height_ft_pre_eq          0.125346\n",
       "superstructure            0.127696\n",
       "foundation_type           0.449628\n",
       "dtype: float64"
      ]
     },
     "execution_count": 99,
     "metadata": {},
     "output_type": "execute_result"
    }
   ],
   "source": [
    "features = final_model_dt.named_steps[\"ordinalencoder\"].get_feature_names()\n",
    "importances = final_model_dt.named_steps[\"decisiontreeclassifier\"].feature_importances_\n",
    "feat_imp = pd.Series(importances,index=features).sort_values()\n",
    "feat_imp"
   ]
  },
  {
   "cell_type": "markdown",
   "id": "9a271a49",
   "metadata": {},
   "source": [
    "**Task 4.5.19:** Create a horizontal bar chart of `feat_imp`. Label your x-axis `\"Gini Importance\"` and your y-axis `\"Label\"`. Use the title `\"Kavrepalanchok Decision Tree, Feature Importance\"`.\n",
    "\n",
    "Do you see any relationship between this plot and the exploratory data analysis you did regarding roof type?"
   ]
  },
  {
   "cell_type": "code",
   "execution_count": 100,
   "id": "fdacd35e",
   "metadata": {},
   "outputs": [
    {
     "data": {
      "image/png": "[encoded data removed]",
      "text/plain": [
       "<Figure size 432x288 with 1 Axes>"
      ]
     },
     "metadata": {
      "needs_background": "light"
     },
     "output_type": "display_data"
    }
   ],
   "source": [
    "# Create horizontal bar chart of feature importances\n",
    "\n",
    "feat_imp.plot(kind=\"barh\")\n",
    "plt.xlabel(\"Gini Importance\")\n",
    "plt.ylabel(\"Label\")\n",
    "plt.title(\"Kavrepalanchok Decision Tree, Feature Importance\")\n",
    "\n",
    "# Don't delete the code below 👇\n",
    "plt.tight_layout()\n",
    "plt.savefig(\"images/4-5-19.png\", dpi=150)\n"
   ]
  },
  {
   "cell_type": "markdown",
   "id": "88a2c644",
   "metadata": {},
   "source": [
    "Congratulations! You made it to the end of Project 4. 👏👏👏"
   ]
  }
 ],
 "metadata": {
  "kernelspec": {
   "display_name": "Python 3 (ipykernel)",
   "language": "python",
   "name": "python3"
  },
  "language_info": {
   "codemirror_mode": {
    "name": "ipython",
    "version": 3
   },
   "file_extension": ".py",
   "mimetype": "text/x-python",
   "name": "python",
   "nbconvert_exporter": "python",
   "pygments_lexer": "ipython3",
   "version": "3.9.7"
  }
 },
 "nbformat": 4,
 "nbformat_minor": 5
}
